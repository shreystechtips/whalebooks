{
 "cells": [
  {
   "cell_type": "code",
   "execution_count": 10,
   "metadata": {},
   "outputs": [],
   "source": [
    "from obspy import read\n",
    "from obspy.core import UTCDateTime\n",
    "import numpy as np\n",
    "from matplotlib import mlab\n",
    "from matplotlib.colors import Normalize\n",
    "import matplotlib.pyplot as plt\n",
    "import math as M\n",
    "import matplotlib\n",
    "import requests\n",
    "from lxml import html\n",
    "import os"
   ]
  },
  {
   "cell_type": "code",
   "execution_count": 4,
   "metadata": {},
   "outputs": [],
   "source": [
    "# web craweler\n",
    "mainurl = 'https://rawdata.oceanobservatories.org/files/RS01SLBS/LJ01A/09-HYDBBA102/2017/10/06/'\n",
    "mainurlpage =requests.get(mainurl)\n",
    "webpage = html.fromstring(mainurlpage.content)\n",
    "suburl = webpage.xpath('//a/@href')\n",
    "\n",
    "FileNum = len(suburl) \n",
    "timestep = 5 #save results every 5 seceonds (no overlap)\n",
    "\n",
    "data_url_list = []\n",
    "for filename in suburl[6:FileNum]:\n",
    "    data_url_list.append(str(mainurl + filename[2:]))"
   ]
  },
  {
   "cell_type": "code",
   "execution_count": 5,
   "metadata": {},
   "outputs": [
    {
     "data": {
      "text/plain": [
       "['https://rawdata.oceanobservatories.org/files/RS01SLBS/LJ01A/09-HYDBBA102/2017/10/06/OO-HYVM1--YDH-2017-10-06T00:00:00.000000.mseed',\n",
       " 'https://rawdata.oceanobservatories.org/files/RS01SLBS/LJ01A/09-HYDBBA102/2017/10/06/OO-HYVM1--YDH-2017-10-06T00:05:00.000000.mseed',\n",
       " 'https://rawdata.oceanobservatories.org/files/RS01SLBS/LJ01A/09-HYDBBA102/2017/10/06/OO-HYVM1--YDH-2017-10-06T00:10:00.000000.mseed',\n",
       " 'https://rawdata.oceanobservatories.org/files/RS01SLBS/LJ01A/09-HYDBBA102/2017/10/06/OO-HYVM1--YDH-2017-10-06T00:15:00.000000.mseed',\n",
       " 'https://rawdata.oceanobservatories.org/files/RS01SLBS/LJ01A/09-HYDBBA102/2017/10/06/OO-HYVM1--YDH-2017-10-06T00:20:00.000000.mseed']"
      ]
     },
     "execution_count": 5,
     "metadata": {},
     "output_type": "execute_result"
    }
   ],
   "source": [
    "data_url_list[:5]"
   ]
  },
  {
   "cell_type": "code",
   "execution_count": 13,
   "metadata": {},
   "outputs": [],
   "source": [
    "def createClips(data_url, timestep=5, num_clips=-1, outdir=os.path.abspath('.')):\n",
    "    # for data_url in data_url_list:\n",
    "    stream = read(data_url)         # Read from url\n",
    "    samp_rate = stream[0].stats.sampling_rate\n",
    "    t_start = stream[0].stats.starttime\n",
    "    t_end = stream[0].stats.endtime\n",
    "    duration = t_end-t_start\n",
    "\n",
    "    # Ping Detections\n",
    "\n",
    "    pingtimes = np.zeros(int(duration)-1)\n",
    "    for stratpoint in range(int(duration)-1):\n",
    "        pingindex = np.argmax(stream[0].data[int(stratpoint * samp_rate):int((stratpoint + 1) * samp_rate)])\n",
    "        pingtimes[stratpoint] = (t_start + stratpoint + pingindex * stream[0].stats.delta)\n",
    "\n",
    "    # Filter Data+Plot Spectrogram+Save Image and Audio \n",
    "\n",
    "    def _nearest_pow_2(x):\n",
    "\n",
    "        a = M.pow(2, M.ceil(np.log2(x)))\n",
    "        b = M.pow(2, M.floor(np.log2(x)))\n",
    "        if abs(a - x) < abs(b - x):\n",
    "            return a\n",
    "        else:\n",
    "            return b\n",
    "    step_size = 5 # for calculating the rms pressure and ploting the spectrogtam \n",
    "    wlen = 0.056;  # bin size in sec \n",
    "    nfft = int(_nearest_pow_2(wlen * samp_rate))  # number of fft points of each bin\n",
    "    per_lap = 0.995      # percentage of overlap\n",
    "    nlap = int(nfft * float(per_lap))   # number of overlapped samples\n",
    "\n",
    "    for i in range(0, len(pingtimes), timestep):\n",
    "        st = stream.slice(UTCDateTime(pingtimes[i]), UTCDateTime(pingtimes[i]) + step_size)\n",
    "        trace = st[0].copy()\n",
    "        # Plot Spectrogram\n",
    "        npts = len(st[0])\n",
    "        end = npts / samp_rate\n",
    "        # using mlab to create the array of spectrogram \n",
    "        specgram, freq, time = mlab.specgram(trace.data/1e-6,NFFT = nfft,Fs = samp_rate,noverlap = nlap, pad_to = None)\n",
    "        specgram = 10 * np.log10(specgram[1:, :])\n",
    "        specgram = np.flipud(specgram)\n",
    "        freq = freq[1:] / 1e3  # Convert Frequency to kHz\n",
    "        halfbin_time = (time[1] - time[0]) / 2.0\n",
    "        halfbin_freq = (freq[1] - freq[0]) / 2.0\n",
    "        freq = np.concatenate((freq, [freq[-1] + 2 * halfbin_freq]))\n",
    "        time = np.concatenate((time, [time[-1] + 2 * halfbin_time]))\n",
    "        extent = (time[0] - halfbin_time, time[-1] + halfbin_time,\n",
    "                      freq[0] - halfbin_freq, freq[-1] + halfbin_freq)\n",
    "        # colormap setting\n",
    "        vmin = 0.50  # default should be 0 to start from the min number of the spectrgram\n",
    "        vmax = 0.95  # default should be 1 to end at the max number of the spectrgram\n",
    "        _range = float(specgram.max() - specgram.min())\n",
    "        vmin = specgram.min() + vmin * _range\n",
    "        vmax = specgram.min() + vmax * _range\n",
    "        norm = Normalize(vmin, vmax)  # to scale a 2-D float X input to the (0, 1) range for input to the cmap\n",
    "\n",
    "        # plot spectrogram\n",
    "        fig = plt.figure(figsize=(8,8))\n",
    "        ax = fig.add_subplot(111)\n",
    "        cax = ax.imshow(specgram, interpolation=\"nearest\", extent=extent, norm=norm, cmap='viridis')\n",
    "        dpi = fig.get_dpi()\n",
    "        fig.set_size_inches(512/float(dpi),512/float(dpi))\n",
    "        ax.axis('tight')\n",
    "        ax.set_xlim(0, end)\n",
    "        ax.set_ylim(0,11)\n",
    "        ax.grid(False)\n",
    "        ax.set_xlabel('Time [s]')\n",
    "        ax.set_ylabel('Frequency [kHz]')\n",
    "\n",
    "        # Save spectrogram\n",
    "        fig = plt.figure(frameon=False, figsize=(8,8))\n",
    "        ax = plt.Axes(fig, [0., 0., 1., 1.])\n",
    "        ax.set_axis_off()\n",
    "        fig.add_axes(ax)\n",
    "\n",
    "        cax = ax.imshow(specgram, interpolation=\"nearest\", extent=extent, norm=norm, \n",
    "                    cmap='viridis')\n",
    "        dpi = fig.get_dpi()\n",
    "        fig.set_size_inches(512/float(dpi),512/float(dpi))\n",
    "        ax.axis('tight')\n",
    "        ax.set_xlim(0, end)\n",
    "        ax.set_ylim(0,11)\n",
    "        ax.grid(False)\n",
    "        ax.set_xlabel('Time [s]')\n",
    "        ax.set_ylabel('Frequency [kHz]')\n",
    "        filename = st[0].stats.network+'_'+st[0].stats.station+'_'+st[0].stats.location+'_'+st[0].stats.channel+'_'+str(UTCDateTime(pingtimes[i])).replace(\"-\",\"_\").replace(\":\",\"_\")\n",
    "        fig.savefig(os.path.join(outdir,filename + '.jpg'))\n",
    "\n",
    "        #save audio\n",
    "        def Save2Wav(sound):\n",
    "            sound = sound.copy()\n",
    "            sound.normalize()\n",
    "            sound.data = (sound.data * (2**31-1)).astype('int32')\n",
    "            sound.write(os.path.join(outdir, filename + '.wav'), format = 'WAV', framerate = samp_rate)\n",
    "        Save2Wav(st[0])\n",
    "        \n",
    "        if i == num_clips - 1:\n",
    "            break"
   ]
  },
  {
   "cell_type": "code",
   "execution_count": 15,
   "metadata": {},
   "outputs": [],
   "source": [
    "if not os.path.exists('outputs'):\n",
    "    os.makedirs(outputs)"
   ]
  },
  {
   "cell_type": "code",
   "execution_count": 16,
   "metadata": {},
   "outputs": [
    {
     "name": "stderr",
     "output_type": "stream",
     "text": [
      "/Users/akeshavan/anaconda3/lib/python3.6/site-packages/obspy/core/trace.py:2176: FutureWarning: Conversion of the second argument of issubdtype from `float` to `np.floating` is deprecated. In future, it will be treated as `np.float64 == np.dtype(float).type`.\n",
      "  if not np.issubdtype(self.data.dtype, float):\n"
     ]
    }
   ],
   "source": [
    "createClips(data_url_list[0], num_clips=1, outdir=os.path.abspath('outputs'))"
   ]
  },
  {
   "cell_type": "code",
   "execution_count": null,
   "metadata": {},
   "outputs": [],
   "source": []
  }
 ],
 "metadata": {
  "kernelspec": {
   "display_name": "Python 3",
   "language": "python",
   "name": "python3"
  },
  "language_info": {
   "codemirror_mode": {
    "name": "ipython",
    "version": 3
   },
   "file_extension": ".py",
   "mimetype": "text/x-python",
   "name": "python",
   "nbconvert_exporter": "python",
   "pygments_lexer": "ipython3",
   "version": "3.6.4"
  }
 },
 "nbformat": 4,
 "nbformat_minor": 2
}
